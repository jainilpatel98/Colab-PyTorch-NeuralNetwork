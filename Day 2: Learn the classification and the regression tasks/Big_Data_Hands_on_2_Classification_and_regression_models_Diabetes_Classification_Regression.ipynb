{
  "nbformat": 4,
  "nbformat_minor": 0,
  "metadata": {
    "colab": {
      "provenance": [],
      "gpuType": "T4"
    },
    "kernelspec": {
      "name": "python3",
      "display_name": "Python 3"
    },
    "language_info": {
      "name": "python"
    },
    "accelerator": "GPU"
  },
  "cells": [
    {
      "cell_type": "code",
      "execution_count": 1,
      "metadata": {
        "colab": {
          "base_uri": "https://localhost:8080/"
        },
        "id": "RwANpYjZfvgq",
        "outputId": "8d77b45a-f0c9-4e52-9275-ce5d79dfcb52"
      },
      "outputs": [
        {
          "output_type": "execute_result",
          "data": {
            "text/plain": [
              "True"
            ]
          },
          "metadata": {},
          "execution_count": 1
        }
      ],
      "source": [
        "import torch\n",
        "torch.cuda.is_available()"
      ]
    },
    {
      "cell_type": "code",
      "source": [
        "# Diabetes Dataset (Instructor-Led):\n",
        "# Regression Task:\n",
        "# •\tObjective: Predict the quantitative progression of diabetes.\n",
        "# •\tSteps:\n",
        "# 1.\tDataset Preparation:\n",
        "# \tLoad the Diabetes Dataset using load_diabetes() from sklearn.datasets.\n",
        "# \tPreprocess the data using StandardScaler.\n",
        "# \tSplit the data into training and test sets using train_test_split.\n",
        "# \tConvert the data into PyTorch tensors.\n",
        "# 2.\tNeural Network Definition:\n",
        "# \tBuild a feedforward neural network:\n",
        "# \tInput layer size = number of features (10).\n",
        "# \tTwo hidden layers with 64 and 32 units, using ReLU activation.\n",
        "# \tOutput layer with one neuron for regression.\n",
        "# 3.\tTraining:\n",
        "# \tUse MSELoss as the loss function and Adam as the optimizer.\n",
        "# \tTrain for 100 epochs, logging the loss every 10 epochs.\n",
        "# 4.\tEvaluation:\n",
        "# \tCalculate mean squared error and R-squared.\n",
        "# \tVisualize predictions vs. true values using matplotlib.\n"
      ],
      "metadata": {
        "id": "GXRhujY-f1vA"
      },
      "execution_count": 2,
      "outputs": []
    },
    {
      "cell_type": "code",
      "source": [
        "import torch\n",
        "import torch.nn as nn\n",
        "import torch.optim as optim\n",
        "from sklearn.datasets import load_diabetes\n",
        "from sklearn.model_selection import train_test_split\n",
        "from sklearn.preprocessing import StandardScaler\n",
        "from sklearn.metrics import mean_squared_error, r2_score\n",
        "import matplotlib.pyplot as plt\n",
        "\n",
        "# 1. Dataset Preparation\n",
        "# Load dataset\n",
        "data = load_diabetes()\n",
        "X, y = data.data, data.target\n",
        "\n",
        "# Preprocess the data\n",
        "scaler = StandardScaler()\n",
        "X_scaled = scaler.fit_transform(X)\n",
        "\n",
        "# Split into training and testing sets\n",
        "X_train, X_test, y_train, y_test = train_test_split(X_scaled, y, test_size=0.2, random_state=42)\n",
        "\n",
        "# Convert to PyTorch tensors\n",
        "X_train_tensor = torch.tensor(X_train, dtype=torch.float32)\n",
        "X_test_tensor = torch.tensor(X_test, dtype=torch.float32)\n",
        "y_train_tensor = torch.tensor(y_train, dtype=torch.float32).view(-1, 1)\n",
        "y_test_tensor = torch.tensor(y_test, dtype=torch.float32).view(-1, 1)\n",
        "\n",
        "# 2. Neural Network Definition\n",
        "class DiabetesRegressor(nn.Module):\n",
        "    def __init__(self):\n",
        "        super(DiabetesRegressor, self).__init__()\n",
        "        self.model = nn.Sequential(\n",
        "            nn.Linear(10, 64),\n",
        "            nn.ReLU(),\n",
        "            nn.Linear(64, 32),\n",
        "            nn.ReLU(),\n",
        "            nn.Linear(32, 1)\n",
        "        )\n",
        "\n",
        "    def forward(self, x):\n",
        "        return self.model(x)\n",
        "\n",
        "# Instantiate the model\n",
        "model = DiabetesRegressor()\n",
        "\n",
        "# 3. Training\n",
        "# Define loss function and optimizer\n",
        "criterion = nn.MSELoss()\n",
        "optimizer = optim.Adam(model.parameters(), lr=0.01)\n",
        "\n",
        "# Training loop\n",
        "num_epochs = 100\n",
        "for epoch in range(num_epochs):\n",
        "    model.train()\n",
        "\n",
        "    # Forward pass\n",
        "    outputs = model(X_train_tensor)\n",
        "    loss = criterion(outputs, y_train_tensor)\n",
        "\n",
        "    # Backward pass\n",
        "    optimizer.zero_grad()\n",
        "    loss.backward()\n",
        "    optimizer.step()\n",
        "\n",
        "    # Log the loss\n",
        "    if (epoch + 1) % 10 == 0:\n",
        "        print(f\"Epoch [{epoch + 1}/{num_epochs}], Loss: {loss.item():.4f}\")\n",
        "\n",
        "# 4. Evaluation\n",
        "# Make predictions\n",
        "model.eval()\n",
        "with torch.no_grad():\n",
        "    y_pred = model(X_test_tensor)\n",
        "\n",
        "# Calculate metrics\n",
        "y_pred_np = y_pred.numpy()\n",
        "y_test_np = y_test_tensor.numpy()\n",
        "\n",
        "mse = mean_squared_error(y_test_np, y_pred_np)\n",
        "r2 = r2_score(y_test_np, y_pred_np)\n",
        "print(f\"Mean Squared Error: {mse:.4f}\")\n",
        "print(f\"R-squared: {r2:.4f}\")\n",
        "\n",
        "# Visualization\n",
        "plt.scatter(y_test_np, y_pred_np, alpha=0.7)\n",
        "plt.plot([y_test_np.min(), y_test_np.max()], [y_test_np.min(), y_test_np.max()], 'r--', lw=2)\n",
        "plt.xlabel(\"True Values\")\n",
        "plt.ylabel(\"Predictions\")\n",
        "plt.title(\"Predictions vs True Values\")\n",
        "plt.show()\n"
      ],
      "metadata": {
        "colab": {
          "base_uri": "https://localhost:8080/",
          "height": 676
        },
        "id": "GGoOxArngSXx",
        "outputId": "2f3d84e5-5c9f-4335-9e19-f4dfec007586"
      },
      "execution_count": 3,
      "outputs": [
        {
          "output_type": "stream",
          "name": "stdout",
          "text": [
            "Epoch [10/100], Loss: 27500.1250\n",
            "Epoch [20/100], Loss: 18069.3789\n",
            "Epoch [30/100], Loss: 5893.7969\n",
            "Epoch [40/100], Loss: 5054.4634\n",
            "Epoch [50/100], Loss: 3901.7039\n",
            "Epoch [60/100], Loss: 3307.3137\n",
            "Epoch [70/100], Loss: 3067.1707\n",
            "Epoch [80/100], Loss: 2942.8088\n",
            "Epoch [90/100], Loss: 2846.0972\n",
            "Epoch [100/100], Loss: 2781.4414\n",
            "Mean Squared Error: 3018.8640\n",
            "R-squared: 0.4302\n"
          ]
        },
        {
          "output_type": "display_data",
          "data": {
            "text/plain": [
              "<Figure size 640x480 with 1 Axes>"
            ],
            "image/png": "[encoded data removed]"
          },
          "metadata": {}
        }
      ]
    },
    {
      "cell_type": "code",
      "source": [
        "# Classification Task:\n",
        "# • Objective: Classify patients into \"low progression\" or \"high progression\" based on a\n",
        "# threshold (e.g., median progression value).\n",
        "# • Steps:\n",
        "# 1. Dataset Preparation:\n",
        "# ▪ Use the same Diabetes Dataset but create binary labels:\n",
        "# ▪ Label patients as 1 (high progression) or 0 (low progression).\n",
        "# ▪ Use the median progression value as the threshold.\n",
        "# ▪ Split the data into training and test sets and preprocess it.\n",
        "# ▪ Convert the data into PyTorch tensors.\n",
        "# 2. Neural Network Definition:\n",
        "# ▪ Build a feedforward neural network:\n",
        "# ▪ Input layer size = number of features (10).\n",
        "# ▪ Two hidden layers with 64 and 32 units, using ReLU activation.\n",
        "# ▪ Output layer with 2 neurons for binary classification (softmax\n",
        "# activation).\n",
        "# 3. Training:\n",
        "# ▪ Use CrossEntropyLoss as the loss function and Adam as the optimizer.\n",
        "# ▪ Train for 100 epochs, logging the loss every 10 epochs.\n",
        "# 4. Evaluation:\n",
        "# ▪ Calculate metrics such as accuracy, precision, recall, and F1-score.\n",
        "# ▪ Generate a confusion matrix and visualize it"
      ],
      "metadata": {
        "id": "18NOSdMhgvNd"
      },
      "execution_count": 1,
      "outputs": []
    },
    {
      "cell_type": "code",
      "source": [
        "import torch\n",
        "import torch.nn as nn\n",
        "import torch.optim as optim\n",
        "from sklearn.datasets import load_diabetes\n",
        "from sklearn.model_selection import train_test_split\n",
        "from sklearn.preprocessing import StandardScaler\n",
        "from sklearn.metrics import accuracy_score, precision_score, recall_score, f1_score, confusion_matrix\n",
        "import seaborn as sns\n",
        "import matplotlib.pyplot as plt\n",
        "import numpy as np\n",
        "\n",
        "# 1. Dataset Preparation\n",
        "# Load dataset\n",
        "data = load_diabetes()\n",
        "X, y = data.data, data.target\n",
        "\n",
        "# Create binary labels\n",
        "threshold = np.median(y)\n",
        "y_binary = (y > threshold).astype(int)\n",
        "\n",
        "# Preprocess the data\n",
        "scaler = StandardScaler()\n",
        "X_scaled = scaler.fit_transform(X)\n",
        "\n",
        "# Split into training and testing sets\n",
        "X_train, X_test, y_train, y_test = train_test_split(X_scaled, y_binary, test_size=0.2, random_state=42)\n",
        "\n",
        "# Convert to PyTorch tensors\n",
        "X_train_tensor = torch.tensor(X_train, dtype=torch.float32)\n",
        "X_test_tensor = torch.tensor(X_test, dtype=torch.float32)\n",
        "y_train_tensor = torch.tensor(y_train, dtype=torch.long)\n",
        "y_test_tensor = torch.tensor(y_test, dtype=torch.long)\n",
        "\n",
        "# 2. Neural Network Definition\n",
        "class DiabetesClassifier(nn.Module):\n",
        "    def __init__(self):\n",
        "        super(DiabetesClassifier, self).__init__()\n",
        "        self.model = nn.Sequential(\n",
        "            nn.Linear(10, 64),\n",
        "            nn.ReLU(),\n",
        "            nn.Linear(64, 32),\n",
        "            nn.ReLU(),\n",
        "            nn.Linear(32, 2)\n",
        "        )\n",
        "\n",
        "    def forward(self, x):\n",
        "        return self.model(x)\n",
        "\n",
        "# Instantiate the model\n",
        "model = DiabetesClassifier()\n",
        "\n",
        "# 3. Training\n",
        "# Define loss function and optimizer\n",
        "criterion = nn.CrossEntropyLoss()\n",
        "optimizer = optim.Adam(model.parameters(), lr=0.01)\n",
        "\n",
        "# Training loop\n",
        "num_epochs = 100\n",
        "for epoch in range(num_epochs):\n",
        "    model.train()\n",
        "\n",
        "    # Forward pass\n",
        "    outputs = model(X_train_tensor)\n",
        "    loss = criterion(outputs, y_train_tensor)\n",
        "\n",
        "    # Backward pass\n",
        "    optimizer.zero_grad()\n",
        "    loss.backward()\n",
        "    optimizer.step()\n",
        "\n",
        "    # Log the loss\n",
        "    if (epoch + 1) % 10 == 0:\n",
        "        print(f\"Epoch [{epoch + 1}/{num_epochs}], Loss: {loss.item():.4f}\")\n",
        "\n",
        "# 4. Evaluation\n",
        "# Make predictions\n",
        "model.eval()\n",
        "with torch.no_grad():\n",
        "    y_pred_logits = model(X_test_tensor)\n",
        "    y_pred = torch.argmax(y_pred_logits, axis=1).numpy()\n",
        "\n",
        "# Calculate metrics\n",
        "y_test_np = y_test_tensor.numpy()\n",
        "accuracy = accuracy_score(y_test_np, y_pred)\n",
        "precision = precision_score(y_test_np, y_pred)\n",
        "recall = recall_score(y_test_np, y_pred)\n",
        "f1 = f1_score(y_test_np, y_pred)\n",
        "print(f\"Accuracy: {accuracy:.4f}\")\n",
        "print(f\"Precision: {precision:.4f}\")\n",
        "print(f\"Recall: {recall:.4f}\")\n",
        "print(f\"F1 Score: {f1:.4f}\")\n",
        "\n",
        "# Confusion matrix\n",
        "conf_matrix = confusion_matrix(y_test_np, y_pred)\n",
        "sns.heatmap(conf_matrix, annot=True, fmt=\"d\", cmap=\"Blues\", xticklabels=[\"Low\", \"High\"], yticklabels=[\"Low\", \"High\"])\n",
        "plt.xlabel(\"Predicted\")\n",
        "plt.ylabel(\"Actual\")\n",
        "plt.title(\"Confusion Matrix\")\n",
        "plt.show()\n"
      ],
      "metadata": {
        "colab": {
          "base_uri": "https://localhost:8080/",
          "height": 710
        },
        "id": "gRafZVr21pD7",
        "outputId": "2bbc6330-21cd-4de3-baf3-73e362868268"
      },
      "execution_count": 2,
      "outputs": [
        {
          "output_type": "stream",
          "name": "stdout",
          "text": [
            "Epoch [10/100], Loss: 0.4726\n",
            "Epoch [20/100], Loss: 0.4141\n",
            "Epoch [30/100], Loss: 0.3572\n",
            "Epoch [40/100], Loss: 0.2919\n",
            "Epoch [50/100], Loss: 0.2140\n",
            "Epoch [60/100], Loss: 0.1409\n",
            "Epoch [70/100], Loss: 0.0786\n",
            "Epoch [80/100], Loss: 0.0419\n",
            "Epoch [90/100], Loss: 0.0218\n",
            "Epoch [100/100], Loss: 0.0120\n",
            "Accuracy: 0.7416\n",
            "Precision: 0.7073\n",
            "Recall: 0.7250\n",
            "F1 Score: 0.7160\n"
          ]
        },
        {
          "output_type": "display_data",
          "data": {
            "text/plain": [
              "<Figure size 640x480 with 2 Axes>"
            ],
            "image/png": "[encoded data removed]"
          },
          "metadata": {}
        }
      ]
    },
    {
      "cell_type": "code",
      "source": [],
      "metadata": {
        "id": "ZYKHb81Z18z0"
      },
      "execution_count": null,
      "outputs": []
    },
    {
      "cell_type": "code",
      "source": [],
      "metadata": {
        "id": "XQqdL4dG6vJz"
      },
      "execution_count": null,
      "outputs": []
    }
  ]
}