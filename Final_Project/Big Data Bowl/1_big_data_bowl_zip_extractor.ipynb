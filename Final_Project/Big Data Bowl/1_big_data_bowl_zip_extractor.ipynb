{
 "cells": [
  {
   "cell_type": "code",
   "execution_count": null,
   "metadata": {},
   "outputs": [],
   "source": [
    "import os\n",
    "import zipfile\n",
    "\n",
    "# Change directory to where your zip files are (if needed)\n",
    "os.chdir('/home/research/Big Data Bowl/raw_data_zips')\n",
    "\n",
    "for filename in os.listdir():\n",
    "    if filename.endswith(\".zip\"):\n",
    "        folder_name = os.path.splitext(filename)[0]\n",
    "        os.makedirs(folder_name, exist_ok=True)\n",
    "\n",
    "        with zipfile.ZipFile(filename, 'r') as zip_ref:\n",
    "            zip_ref.extractall(folder_name)\n"
   ]
  }
 ],
 "metadata": {
  "kernelspec": {
   "display_name": "myenv",
   "language": "python",
   "name": "python3"
  },
  "language_info": {
   "codemirror_mode": {
    "name": "ipython",
    "version": 3
   },
   "file_extension": ".py",
   "mimetype": "text/x-python",
   "name": "python",
   "nbconvert_exporter": "python",
   "pygments_lexer": "ipython3",
   "version": "3.9.20"
  }
 },
 "nbformat": 4,
 "nbformat_minor": 2
}
