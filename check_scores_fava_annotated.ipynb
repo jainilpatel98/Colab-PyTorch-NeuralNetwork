{
 "cells": [
  {
   "cell_type": "code",
   "execution_count": 7,
   "metadata": {},
   "outputs": [],
   "source": [
    "import os\n",
    "import pickle as pk\n",
    "\n",
    "import numpy as np\n",
    "from matplotlib import pyplot as plt\n",
    "from sklearn.metrics import auc, roc_curve\n",
    "\n",
    "\n",
    "\n",
    "os.environ[\"KMP_DUPLICATE_LIB_OK\"]=\"TRUE\"\n",
    "os.environ['HF_HOME'] = \"/home/japmyy/.cache/huggingface\""
   ]
  },
  {
   "cell_type": "code",
   "execution_count": 8,
   "metadata": {},
   "outputs": [],
   "source": [
    "# load train and test scores from /data\n",
    "with open('data/scores_fava_annot_llama_500samp.pkl', 'rb') as f:\n",
    "    scores, sample_indiv_scores, sample_labels = pk.load(f)\n"
   ]
  },
  {
   "cell_type": "code",
   "execution_count": 9,
   "metadata": {},
   "outputs": [],
   "source": [
    "def get_roc_auc_scores(scores: np.array, labels: np.array):\n",
    "    \"\"\"\n",
    "    Calculate ROC AUC metrics, including the AUC score, accuracy, and other key values.\n",
    "\n",
    "    Args:\n",
    "        scores (np.array): Predicted scores.\n",
    "        labels (np.array): Ground Truth binary labels.\n",
    "\n",
    "    Returns:\n",
    "        tuple: A tuple containing the following:\n",
    "            - arc (float): Area Under the Curve (AUC) for the Receiver Operating Characteristic (ROC) curve.\n",
    "            - acc (float): Maximum accuracy derived from the ROC curve.\n",
    "            - low (float): True Positive Rate (TPR) at the maximum False Positive Rate (FPR) < 0.05.\n",
    "            - fpr (np.ndarray): False Positive Rates at various thresholds.\n",
    "            - tpr (np.ndarray): True Positive Rates at various thresholds.\n",
    "            - thresh_ind (int): Index of the threshold corresponding to maximum accuracy.\n",
    "            - thresh (np.ndarray): Thresholds used for calculating the ROC curve.\n",
    "    \"\"\"\n",
    "    fpr, tpr, thresh = roc_curve(labels, scores)\n",
    "    arc = auc(fpr, tpr)\n",
    "    acc = np.max(1 - (fpr + (1 - tpr))/2)\n",
    "    thresh_ind = np.argmax(1 - (fpr + (1 - tpr))/2)\n",
    "    low = tpr[np.where(fpr<0.05)[0][-1]]\n",
    "    return arc, acc, low, fpr, tpr, thresh_ind, thresh\n",
    "\n",
    "\n",
    "def get_thresh_val(thresh: np.array, acc: float, scores: np.array):\n",
    "    \"\"\"Find approx threshold that matches avg accuracy\"\"\"\n",
    "    for t in thresh:\n",
    "        pred_list = np.array([ 1 if x < t else 0 for x in scores])\n",
    "        if np.mean(pred_list) <= acc:\n",
    "            #print(f\"Accuracy: {acc:.2f} , {np.mean(pred_list):.2f}\")\n",
    "            return t, pred_list\n",
    "\n",
    "def get_balanced_scores(scores: np.array, sample_labels: np.array):\n",
    "    \"\"\"Get balanced scores\"\"\"\n",
    "    num_samp = min(sum(sample_labels), len(sample_labels)-sum(sample_labels))\n",
    "    bal_sc = np.concatenate([scores[:num_samp] , scores[-num_samp:]])\n",
    "    bal_labels = np.concatenate([sample_labels[:num_samp], sample_labels[-num_samp:]])\n",
    "    return bal_sc, bal_labels"
   ]
  },
  {
   "cell_type": "code",
   "execution_count": 10,
   "metadata": {},
   "outputs": [
    {
     "data": {
      "text/plain": [
       "(10, 10)"
      ]
     },
     "execution_count": 10,
     "metadata": {},
     "output_type": "execute_result"
    }
   ],
   "source": [
    "# Ensure balanced dataset!\n",
    "bal_sc, bal_labels = get_balanced_scores(scores,sample_labels)\n",
    "len(bal_labels), sum(bal_labels)*2"
   ]
  },
  {
   "cell_type": "code",
   "execution_count": 11,
   "metadata": {},
   "outputs": [
    {
     "name": "stdout",
     "output_type": "stream",
     "text": [
      "PPL & 4.00 & 50.00 & 0.00 \\\\\n",
      "Window Entropy & 4.00 & 50.00 & 0.00 \\\\\n",
      "Logit Entropy & 64.00 & 70.00 & 20.00 \\\\\n"
     ]
    }
   ],
   "source": [
    "ly_scores = -np.array(sample_indiv_scores['logit'][\"perplexity\"])\n",
    "arc, acc, low, fpr, tpr, thresh_ind, thresh = get_roc_auc_scores(*get_balanced_scores(ly_scores,sample_labels))\n",
    "# print(f\"AUROC:{arc*100:.2f}, Acc:{acc*100:.2f}, TPR@5%FPR:{low*100:.2f}\")\n",
    "print(f\"PPL & {arc*100:.2f} & {acc*100:.2f} & {low*100:.2f} \\\\\\\\\")\n",
    "\n",
    "ly_scores = np.array(sample_indiv_scores['logit'][\"window_entropy\"])\n",
    "arc, acc, low, fpr, tpr, thresh_ind, thresh = get_roc_auc_scores(*get_balanced_scores(ly_scores,sample_labels))\n",
    "print(f\"Window Entropy & {arc*100:.2f} & {acc*100:.2f} & {low*100:.2f} \\\\\\\\\")\n",
    "\n",
    "ly_scores = np.array(sample_indiv_scores['logit'][\"logit_entropy\"])\n",
    "arc, acc, low, fpr, tpr, thresh_ind, thresh = get_roc_auc_scores(*get_balanced_scores(ly_scores,sample_labels))\n",
    "print(f\"Logit Entropy & {arc*100:.2f} & {acc*100:.2f} & {low*100:.2f} \\\\\\\\\")"
   ]
  },
  {
   "cell_type": "code",
   "execution_count": 12,
   "metadata": {},
   "outputs": [
    {
     "name": "stdout",
     "output_type": "stream",
     "text": [
      "Layer:2 - AUROC:0.0000, Acc:0.5000, TPR@5%FPR:0.0000\n",
      "Layer:3 - AUROC:0.0000, Acc:0.5000, TPR@5%FPR:0.0000\n",
      "Layer:4 - AUROC:0.0000, Acc:0.5000, TPR@5%FPR:0.0000\n",
      "Layer:5 - AUROC:0.0000, Acc:0.5000, TPR@5%FPR:0.0000\n",
      "Layer:6 - AUROC:0.0000, Acc:0.5000, TPR@5%FPR:0.0000\n",
      "Layer:7 - AUROC:0.0000, Acc:0.5000, TPR@5%FPR:0.0000\n",
      "Layer:8 - AUROC:0.0000, Acc:0.5000, TPR@5%FPR:0.0000\n",
      "Layer:9 - AUROC:0.0000, Acc:0.5000, TPR@5%FPR:0.0000\n",
      "Layer:10 - AUROC:0.0000, Acc:0.5000, TPR@5%FPR:0.0000\n",
      "Layer:11 - AUROC:0.0000, Acc:0.5000, TPR@5%FPR:0.0000\n",
      "Layer:12 - AUROC:0.0000, Acc:0.5000, TPR@5%FPR:0.0000\n",
      "Layer:13 - AUROC:0.0000, Acc:0.5000, TPR@5%FPR:0.0000\n",
      "Layer:14 - AUROC:0.0000, Acc:0.5000, TPR@5%FPR:0.0000\n",
      "Layer:15 - AUROC:0.0000, Acc:0.5000, TPR@5%FPR:0.0000\n",
      "Layer:16 - AUROC:0.0000, Acc:0.5000, TPR@5%FPR:0.0000\n",
      "Layer:17 - AUROC:0.0000, Acc:0.5000, TPR@5%FPR:0.0000\n",
      "Layer:18 - AUROC:0.0000, Acc:0.5000, TPR@5%FPR:0.0000\n",
      "Layer:19 - AUROC:0.0000, Acc:0.5000, TPR@5%FPR:0.0000\n",
      "Layer:20 - AUROC:0.0000, Acc:0.5000, TPR@5%FPR:0.0000\n",
      "Layer:21 - AUROC:0.0000, Acc:0.5000, TPR@5%FPR:0.0000\n",
      "Layer:22 - AUROC:0.0000, Acc:0.5000, TPR@5%FPR:0.0000\n",
      "Layer:23 - AUROC:0.0000, Acc:0.5000, TPR@5%FPR:0.0000\n",
      "Layer:24 - AUROC:0.0000, Acc:0.5000, TPR@5%FPR:0.0000\n",
      "Layer:25 - AUROC:0.0000, Acc:0.5000, TPR@5%FPR:0.0000\n",
      "Layer:26 - AUROC:0.0000, Acc:0.5000, TPR@5%FPR:0.0000\n",
      "Layer:27 - AUROC:0.0000, Acc:0.5000, TPR@5%FPR:0.0000\n",
      "Layer:28 - AUROC:0.0000, Acc:0.5000, TPR@5%FPR:0.0000\n",
      "Layer:29 - AUROC:0.0000, Acc:0.5000, TPR@5%FPR:0.0000\n",
      "Layer:30 - AUROC:0.0000, Acc:0.5000, TPR@5%FPR:0.0000\n",
      "Layer:31 - AUROC:0.0000, Acc:0.5000, TPR@5%FPR:0.0000\n",
      "Layer:32 - AUROC:0.0000, Acc:0.5000, TPR@5%FPR:0.0000\n"
     ]
    },
    {
     "data": {
      "image/png": "[encoded data removed]",
      "text/plain": [
       "<Figure size 640x480 with 1 Axes>"
      ]
     },
     "metadata": {},
     "output_type": "display_data"
    }
   ],
   "source": [
    "num_layers = len(sample_indiv_scores['attns'].keys())  # The 7B and 8B models that are being evaluated have 32 layers, so num_layers=31\n",
    "arc_list, acc_list, low_list = [], [], []\n",
    "\n",
    "samp_preds = []\n",
    "thresh_vals = []\n",
    "\n",
    "for layer_num in range(1, num_layers + 1):\n",
    "    scores = -np.array(sample_indiv_scores['attns'][\"Attn\"+str(layer_num)])\n",
    "    bal_sc, bal_labels = get_balanced_scores(scores,sample_labels)\n",
    "    arc, acc, low, fpr, tpr, thresh_ind, thresh = get_roc_auc_scores(bal_sc,bal_labels)\n",
    "    thresh_val, pred_list = get_thresh_val(thresh, acc, bal_sc)\n",
    "    samp_preds.append(pred_list)\n",
    "    thresh_vals.append(thresh_val)\n",
    "    print(f\"Layer:{layer_num+1} - AUROC:{arc:.4f}, Acc:{acc:.4f}, TPR@5%FPR:{low:.4f}\")\n",
    "    arc_list.append(arc)\n",
    "    acc_list.append(acc)\n",
    "    low_list.append(low)\n",
    "    plt.plot(fpr, tpr, label = f'LY{layer_num}, AUC={arc*100:.2f}, Acc={acc*100:.2f}, TPR@5%FPR={low*100:.2f}') \n",
    "\n",
    "# print(\"Layer-wise results\")\n",
    "# print(arc_list)\n",
    "# print(acc_list)\n",
    "# print(low_list)\n",
    "\n",
    "# # add the legend below the plot\n",
    "# plt.legend(loc='upper center', bbox_to_anchor=(0.5, -0.05), shadow=True, ncol=2)\n",
    "# plt.ylabel('True Positive Rate')\n",
    "# plt.xlabel('False Positive Rate')\n",
    "# plt.savefig(\"plots/llama_attns_layerwise_roc_var.png\", dpi=200, bbox_inches='tight')\n",
    "\n",
    "# clear the plot\n",
    "plt.clf()\n",
    "plt.xticks([1, 5, 10, 15, 20, 25, 30, 32])\n",
    "plt.plot(range(1, len(arc_list) + 1), arc_list, label='AUROC')\n",
    "plt.plot(range(1, len(arc_list) + 1), acc_list, label='ACC')\n",
    "plt.plot(range(1, len(arc_list) + 1), low_list, label='TPR@5%FPR')\n",
    "plt.xlabel('Layer Number')\n",
    "plt.grid()\n",
    "plt.legend()\n",
    "plt.savefig(\"plots/llama_hidden_fava.png\", dpi=200, bbox_inches='tight')\n",
    "plt.show()\n"
   ]
  },
  {
   "cell_type": "code",
   "execution_count": null,
   "metadata": {},
   "outputs": [],
   "source": []
  }
 ],
 "metadata": {
  "kernelspec": {
   "display_name": "hallucination_env",
   "language": "python",
   "name": "python3"
  },
  "language_info": {
   "codemirror_mode": {
    "name": "ipython",
    "version": 3
   },
   "file_extension": ".py",
   "mimetype": "text/x-python",
   "name": "python",
   "nbconvert_exporter": "python",
   "pygments_lexer": "ipython3",
   "version": "3.10.12"
  }
 },
 "nbformat": 4,
 "nbformat_minor": 2
}
